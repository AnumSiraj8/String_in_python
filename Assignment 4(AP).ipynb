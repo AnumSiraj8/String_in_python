{
 "cells": [
  {
   "cell_type": "code",
   "execution_count": 2,
   "id": "825b786c-cb7c-4ba8-9467-b474e7fa3932",
   "metadata": {},
   "outputs": [],
   "source": [
    "# 1-\n",
    "\n",
    "# text = 'hello python world'\n",
    "\n",
    "# Replace spaces with underscores in the string (e.g., \"hello python world\" → \"hello_python_world\").\n",
    "\n",
    "# Split the modified string (e.g., \"hello_python_world\" → ['hello', 'python', 'world']).\n",
    "\n",
    "# Print all two results\n",
    "\n",
    "# Hint: Use string methods\n"
   ]
  },
  {
   "cell_type": "code",
   "execution_count": 11,
   "id": "3dec0caa-c752-4d0b-9833-87d0268b0902",
   "metadata": {},
   "outputs": [
    {
     "name": "stdout",
     "output_type": "stream",
     "text": [
      "hello python world\n",
      "hello_python_world\n",
      "['hello', 'python', 'world']\n"
     ]
    }
   ],
   "source": [
    "text = 'hello python world'\n",
    "print(text)\n",
    "text_1 = (text.replace(' ','_'))\n",
    "print(text_1)\n",
    "text_2 = (text_1.split('_'))\n",
    "print(text_2)"
   ]
  },
  {
   "cell_type": "code",
   "execution_count": null,
   "id": "e5c99bc1-2dc6-4071-884e-53f68d0d0da7",
   "metadata": {},
   "outputs": [],
   "source": [
    "# 2- You have a product code that follows the format \"SKU-12345-XYZ\".\n",
    "\n",
    "# Find the first position of the dash (-).\n",
    "\n",
    "# Count the number of dashes (-) in the product code.\n",
    "\n",
    "# Remove the \"SKU-\" prefix and \"-XYZ\" suffix from the product code, Extract the numeric part 12345\n",
    "\n",
    "# product_code = \"SKU-12345-XYZ\"\n",
    "\n",
    "# Hint: Use String Methods"
   ]
  },
  {
   "cell_type": "code",
   "execution_count": 17,
   "id": "7a214ae3-fa0d-4f85-9773-3161b5ab12f1",
   "metadata": {},
   "outputs": [
    {
     "name": "stdout",
     "output_type": "stream",
     "text": [
      "3\n",
      "2\n",
      "12345\n"
     ]
    }
   ],
   "source": [
    "product_code = \"SKU-12345-XYZ\"\n",
    "first_position = (product_code.find('-'))\n",
    "print(first_position)\n",
    "\n",
    "count_dashes = (product_code.count('-'))\n",
    "print(count_dashes)\n",
    "\n",
    "remove_code = (product_code.replace('SKU-','').replace('-XYZ',''))\n",
    "print(remove_code)"
   ]
  },
  {
   "cell_type": "code",
   "execution_count": 18,
   "id": "10d502ea-4e97-4414-afe7-2b8378889537",
   "metadata": {},
   "outputs": [],
   "source": [
    "# 3- Convert a string to Title Case.\n",
    "\n",
    "# text_1 = \"hello world\""
   ]
  },
  {
   "cell_type": "code",
   "execution_count": 26,
   "id": "0077a4cd-471c-4cab-b11a-c0d7b749bab0",
   "metadata": {},
   "outputs": [
    {
     "data": {
      "text/plain": [
       "'Hello World'"
      ]
     },
     "execution_count": 26,
     "metadata": {},
     "output_type": "execute_result"
    }
   ],
   "source": [
    "text_0 = \"hello world\"\n",
    "text_0.title()"
   ]
  },
  {
   "cell_type": "code",
   "execution_count": 22,
   "id": "934cdccb-03a2-45d7-810a-3e304adc4a7a",
   "metadata": {},
   "outputs": [],
   "source": [
    "# 4- Capitalize the first letter of a string.\n",
    "\n",
    "# text_2 = \"python programming\""
   ]
  },
  {
   "cell_type": "code",
   "execution_count": 23,
   "id": "396e68be-4d0b-41c4-b93a-f7d3ae15078a",
   "metadata": {},
   "outputs": [
    {
     "data": {
      "text/plain": [
       "'Python programming'"
      ]
     },
     "execution_count": 23,
     "metadata": {},
     "output_type": "execute_result"
    }
   ],
   "source": [
    "text_3 = \"python programming\"\n",
    "text_3.capitalize()"
   ]
  },
  {
   "cell_type": "code",
   "execution_count": 24,
   "id": "2b29c34f-c4aa-43ad-aa4b-40f018fd0f4c",
   "metadata": {},
   "outputs": [],
   "source": [
    "# 5- Given the string below, write Python code to:\n",
    "\n",
    "# Convert the string so that each word starts with a capital letter\n",
    "\n",
    "# Then swap the case of every letter in the resulting string\n",
    "\n",
    "# Print the final result.\n",
    "\n",
    "# text1 = \"learning PYTHON is AWESOME\""
   ]
  },
  {
   "cell_type": "code",
   "execution_count": 29,
   "id": "adcf447e-47de-4671-b3b1-290aea18d1b1",
   "metadata": {},
   "outputs": [
    {
     "name": "stdout",
     "output_type": "stream",
     "text": [
      "Learning Python Is Awesome\n",
      "lEARNING pYTHON iS aWESOME\n"
     ]
    }
   ],
   "source": [
    "text1 = \"learning PYTHON is AWESOME\"\n",
    "dir('')\n",
    "capital_letter = text1.title()\n",
    "print(capital_letter)\n",
    "\n",
    "swap = (capital_letter.swapcase())\n",
    "print(swap)"
   ]
  },
  {
   "cell_type": "code",
   "execution_count": 1,
   "id": "12375303-e3ca-4c8c-b4d6-4d456b0f4aad",
   "metadata": {},
   "outputs": [],
   "source": [
    "# 6-\n",
    "\n",
    "# Write Python code to check and print whether the string satisfies the following:\n",
    "\n",
    "# Is alphanumeric?\n",
    "\n",
    "# Is alphabetic only?\n",
    "\n",
    "# text2 = \"HelloWorld123\""
   ]
  },
  {
   "cell_type": "code",
   "execution_count": 9,
   "id": "08b1e294-ad1d-456c-ace0-b033423ebeeb",
   "metadata": {},
   "outputs": [
    {
     "name": "stdout",
     "output_type": "stream",
     "text": [
      "The python code is alphanumeric? False\n",
      "The python code is alphabetic? False\n",
      "The python code is alphabeticas well as numeric? True\n"
     ]
    }
   ],
   "source": [
    "text2 = \"HelloWorld123\"\n",
    "text2.isnumeric()\n",
    "print(\"The python code is alphanumeric?\",text2.isnumeric())\n",
    "print(\"The python code is alphabetic?\",text2.isalpha())\n",
    "print(\"The python code is alphabeticas well as numeric?\",text2.isalnum())"
   ]
  },
  {
   "cell_type": "code",
   "execution_count": 10,
   "id": "f996cbb8-6b1d-4f1c-bab2-97fce06956bf",
   "metadata": {},
   "outputs": [],
   "source": [
    "# 7-\n",
    "\n",
    "# Write Python code to check and print whether the string satisfies the following:\n",
    "\n",
    "# Is the string made up of digits only?\n",
    "\n",
    "# Is the string all lowercase?\n",
    "\n",
    "# text3 = \"helloworld\""
   ]
  },
  {
   "cell_type": "code",
   "execution_count": 20,
   "id": "f8b20f91-07d1-42fa-af5c-f9499dbc2473",
   "metadata": {},
   "outputs": [
    {
     "name": "stdout",
     "output_type": "stream",
     "text": [
      "Is the string made up of digits only? False\n",
      "Is the string all lowercase? True\n"
     ]
    }
   ],
   "source": [
    "text3 = \"helloworld\"\n",
    "print(\"Is the string made up of digits only?\",text3.isdigit())\n",
    "print(\"Is the string all lowercase?\",text3.islower())"
   ]
  },
  {
   "cell_type": "code",
   "execution_count": 21,
   "id": "15870630-fc41-4cf3-bed6-0ae14cb50160",
   "metadata": {},
   "outputs": [],
   "source": [
    "# 8-\n",
    "\n",
    "# Write Python code to check and print whether the string satisfies the following:\n",
    "\n",
    "# Is the string all uppercase?\n",
    "\n",
    "# Is the string titlecased?\n",
    "\n",
    "# text4 = 'Hi We Are Learning Python'"
   ]
  },
  {
   "cell_type": "code",
   "execution_count": 23,
   "id": "c5226d0f-5c29-4841-9ac0-54425d27eab3",
   "metadata": {},
   "outputs": [
    {
     "name": "stdout",
     "output_type": "stream",
     "text": [
      "Is the string all uppercase? False\n",
      "Is the string titlecased? True\n"
     ]
    }
   ],
   "source": [
    "text4 = 'Hi We Are Learning Python'\n",
    "print(\"Is the string all uppercase?\",text4.isupper())\n",
    "print(\"Is the string titlecased?\",text4.istitle())"
   ]
  },
  {
   "cell_type": "code",
   "execution_count": 24,
   "id": "29155cc0-0d7b-4ccf-99c3-a5cc264d5aae",
   "metadata": {},
   "outputs": [],
   "source": [
    "# 9-\n",
    "\n",
    "# Write Python code to check and print whether the string:\n",
    "\n",
    "# Starts with \"data\"\n",
    "\n",
    "# Ends with \".csv\"\n",
    "\n",
    "# text5 = \"data_report_2023.csv\""
   ]
  },
  {
   "cell_type": "code",
   "execution_count": 2,
   "id": "69bae8f7-1c95-4eb8-aafa-cb5c9edcd5ac",
   "metadata": {},
   "outputs": [
    {
     "name": "stdout",
     "output_type": "stream",
     "text": [
      "Starts with data? True\n",
      "Ends with .csv? True\n"
     ]
    }
   ],
   "source": [
    "text5 = \"data_report_2023.csv\"\n",
    "print(\"Starts with data?\",text5.startswith(\"data\"))\n",
    "print(\"Ends with .csv?\",text5.endswith(\".csv\"))"
   ]
  },
  {
   "cell_type": "raw",
   "id": "5b44c95b-436d-406c-9b33-4233a1746350",
   "metadata": {},
   "source": [
    "10-\n",
    "\n",
    "Write Python code to:\n",
    "\n",
    "Count how many times \"banana\" appears in the string.\n",
    "\n",
    "fruit = \"banana bandana banana\"\n"
   ]
  },
  {
   "cell_type": "code",
   "execution_count": 1,
   "id": "8e757022-be00-4e0b-aba8-d47ee9de7897",
   "metadata": {},
   "outputs": [
    {
     "name": "stdout",
     "output_type": "stream",
     "text": [
      "Total bananas are:  2\n"
     ]
    }
   ],
   "source": [
    "fruit = \"banana bandana banana\"\n",
    "total_count = fruit.count(\"banana\")\n",
    "print(\"Total bananas are: \",total_count)\n",
    "\n"
   ]
  },
  {
   "cell_type": "code",
   "execution_count": null,
   "id": "f99b2227-7385-4777-9158-5fb6a1bbac8e",
   "metadata": {},
   "outputs": [],
   "source": []
  }
 ],
 "metadata": {
  "kernelspec": {
   "display_name": "Python 3 (ipykernel)",
   "language": "python",
   "name": "python3"
  },
  "language_info": {
   "codemirror_mode": {
    "name": "ipython",
    "version": 3
   },
   "file_extension": ".py",
   "mimetype": "text/x-python",
   "name": "python",
   "nbconvert_exporter": "python",
   "pygments_lexer": "ipython3",
   "version": "3.13.5"
  }
 },
 "nbformat": 4,
 "nbformat_minor": 5
}
